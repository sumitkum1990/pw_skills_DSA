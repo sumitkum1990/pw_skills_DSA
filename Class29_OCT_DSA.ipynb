{
 "cells": [
  {
   "cell_type": "code",
   "execution_count": 5,
   "id": "eba9d255-3062-49c2-8cd5-64be14fef9e7",
   "metadata": {},
   "outputs": [
    {
     "name": "stdout",
     "output_type": "stream",
     "text": [
      "282\n"
     ]
    }
   ],
   "source": [
    "\n",
    "#Time complexity: O(n)\n",
    "#Sapce Completxity: O(1)\n",
    "\n",
    "def sumation(arr):\n",
    "    n  = len(arr)\n",
    "    sumVal = 0\n",
    "    for i in range(n):\n",
    "        sumVal += arr[i]\n",
    "        \n",
    "    return sumVal\n",
    "    \n",
    "    \n",
    "arr = [23,34,64,12,25,56,68]\n",
    "\n",
    "arr = [23,34,64,12,25,56,68]\n",
    "result = sumation(arr)\n",
    "print(result)"
   ]
  },
  {
   "cell_type": "code",
   "execution_count": 6,
   "id": "6c58bc25-54e0-4206-92bb-e1637b004b41",
   "metadata": {},
   "outputs": [],
   "source": [
    "arr = [23,34,64,12,25,56,68]\n",
    "arr.insert(1,24)"
   ]
  },
  {
   "cell_type": "code",
   "execution_count": 7,
   "id": "8350fa93-3cb0-44ea-bedc-84abf2096152",
   "metadata": {},
   "outputs": [
    {
     "data": {
      "text/plain": [
       "[23, 24, 34, 64, 12, 25, 56, 68]"
      ]
     },
     "execution_count": 7,
     "metadata": {},
     "output_type": "execute_result"
    }
   ],
   "source": [
    "arr"
   ]
  },
  {
   "cell_type": "code",
   "execution_count": 10,
   "id": "ee3dfc09-80f2-4b8a-9ec2-bbe1afc59c8c",
   "metadata": {},
   "outputs": [
    {
     "name": "stdout",
     "output_type": "stream",
     "text": [
      "-1\n"
     ]
    }
   ],
   "source": [
    "Searching Algorithms\n",
    "#Time COmplexity : O(n)\n",
    "#Space COmplexity : O(1)\n",
    "def linearSearch(arr, target):\n",
    "    for i in range(len(arr)):\n",
    "        if(arr[i] == target):\n",
    "            return i\n",
    "        return -1\n",
    "\n",
    "\n",
    "arr = [12,14,16,18,11,22,26,29]\n",
    "target = 30\n",
    "result = linearSearch(arr, target)\n",
    "print(result)"
   ]
  },
  {
   "cell_type": "code",
   "execution_count": 2,
   "id": "216234a7-8a44-489a-898a-cec54d3f9253",
   "metadata": {},
   "outputs": [
    {
     "name": "stdout",
     "output_type": "stream",
     "text": [
      "([12, 14, 16, 18, 22, 26, 12, 14, 16, 18, 22, 26], [11, 29, 11, 29])\n"
     ]
    }
   ],
   "source": [
    "#Time COmplexity : O(n)\n",
    "#Space COmplexity : O(n), extra spce due to even and odd array\n",
    "even =  []\n",
    "odd = []\n",
    "\n",
    "\n",
    "def evenAndOdd(arr):\n",
    "    for i in arr:\n",
    "        if i % 2 == 0:\n",
    "            even.append(i)\n",
    "        else:\n",
    "             odd.append(i)\n",
    "    return even, odd\n",
    "    \n",
    "arr = [12,14,16,18,11,22,26,29]\n",
    "evenAndOdd(arr)\n",
    "#print(even, odd)\n",
    "print(evenAndOdd(arr))\n",
    "    "
   ]
  },
  {
   "cell_type": "code",
   "execution_count": 3,
   "id": "ad6d48c8-683b-4f6a-ad19-ceab7b025e54",
   "metadata": {},
   "outputs": [
    {
     "ename": "UnboundLocalError",
     "evalue": "local variable 'secondaryDiagonalSum' referenced before assignment",
     "output_type": "error",
     "traceback": [
      "\u001b[0;31m---------------------------------------------------------------------------\u001b[0m",
      "\u001b[0;31mUnboundLocalError\u001b[0m                         Traceback (most recent call last)",
      "Cell \u001b[0;32mIn[3], line 24\u001b[0m\n\u001b[1;32m     18\u001b[0m arr \u001b[38;5;241m=\u001b[39m [[\u001b[38;5;241m2\u001b[39m,\u001b[38;5;241m4\u001b[39m,\u001b[38;5;241m6\u001b[39m], [\u001b[38;5;241m8\u001b[39m,\u001b[38;5;241m11\u001b[39m,\u001b[38;5;241m13\u001b[39m],[\u001b[38;5;241m14\u001b[39m,\u001b[38;5;241m17\u001b[39m,\u001b[38;5;241m19\u001b[39m]]\n\u001b[1;32m     20\u001b[0m \u001b[38;5;66;03m#function calling\u001b[39;00m\n\u001b[1;32m     21\u001b[0m \n\u001b[1;32m     22\u001b[0m \u001b[38;5;66;03m#n = 3\u001b[39;00m\n\u001b[1;32m     23\u001b[0m \u001b[38;5;66;03m#printDiagonalSum(arr)\u001b[39;00m\n\u001b[0;32m---> 24\u001b[0m \u001b[43mprintDiagonalSum\u001b[49m\u001b[43m(\u001b[49m\u001b[43marr\u001b[49m\u001b[43m)\u001b[49m\n",
      "Cell \u001b[0;32mIn[3], line 14\u001b[0m, in \u001b[0;36mprintDiagonalSum\u001b[0;34m(arr)\u001b[0m\n\u001b[1;32m     12\u001b[0m             \u001b[38;5;66;03m## conditon to get element for secondary diagonal \u001b[39;00m\n\u001b[1;32m     13\u001b[0m         \u001b[38;5;28;01mif\u001b[39;00m((i\u001b[38;5;241m+\u001b[39mj) \u001b[38;5;241m==\u001b[39m (n\u001b[38;5;241m-\u001b[39m\u001b[38;5;241m1\u001b[39m)):\n\u001b[0;32m---> 14\u001b[0m             secondaryDiagonalSum \u001b[38;5;241m+\u001b[39m\u001b[38;5;241m=\u001b[39m arr[i][j]\n\u001b[1;32m     15\u001b[0m \u001b[38;5;28mprint\u001b[39m(\u001b[38;5;124m\"\u001b[39m\u001b[38;5;124mPrimary Diagonal Sum\u001b[39m\u001b[38;5;124m\"\u001b[39m, primaryDiagonalSum)\n\u001b[1;32m     16\u001b[0m \u001b[38;5;28mprint\u001b[39m(\u001b[38;5;124m\"\u001b[39m\u001b[38;5;124msecondary Diagonal Sum\u001b[39m\u001b[38;5;124m\"\u001b[39m,secondaryDiagonalSum)\n",
      "\u001b[0;31mUnboundLocalError\u001b[0m: local variable 'secondaryDiagonalSum' referenced before assignment"
     ]
    }
   ],
   "source": [
    "#function calling\n",
    "\n",
    "def printDiagonalSum(arr):\n",
    "    n = len(arr)\n",
    "    primaryDiagonalSum = 0\n",
    "    secondayDiagonalSum = 0\n",
    "    for i in range(n):\n",
    "        for j in range(n):\n",
    "            ## conditon to get element for primary diagonal\n",
    "            if i == j:\n",
    "                primaryDiagonalSum += arr[i][j]\n",
    "                ## conditon to get element for secondary diagonal \n",
    "            if((i+j) == (n-1)):\n",
    "                secondaryDiagonalSum += arr[i][j]\n",
    "    print(\"Primary Diagonal Sum\", primaryDiagonalSum)\n",
    "    print(\"secondary Diagonal Sum\",secondaryDiagonalSum)\n",
    "#Driver code\n",
    "arr = [[2,4,6], [8,11,13],[14,17,19]]\n",
    "\n",
    "#function calling\n",
    "\n",
    "#n = 3\n",
    "#printDiagonalSum(arr)\n",
    "printDiagonalSum(arr)"
   ]
  },
  {
   "cell_type": "code",
   "execution_count": null,
   "id": "214876f7-5a46-43ca-8901-1d3e775add8d",
   "metadata": {},
   "outputs": [],
   "source": []
  }
 ],
 "metadata": {
  "kernelspec": {
   "display_name": "Python 3 (ipykernel)",
   "language": "python",
   "name": "python3"
  },
  "language_info": {
   "codemirror_mode": {
    "name": "ipython",
    "version": 3
   },
   "file_extension": ".py",
   "mimetype": "text/x-python",
   "name": "python",
   "nbconvert_exporter": "python",
   "pygments_lexer": "ipython3",
   "version": "3.10.8"
  }
 },
 "nbformat": 4,
 "nbformat_minor": 5
}
